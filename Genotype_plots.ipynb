{
 "cells": [
  {
   "cell_type": "code",
   "execution_count": null,
   "metadata": {
    "collapsed": true
   },
   "outputs": [],
   "source": [
    "import numpy as np\n",
    "import matplotlib.pyplot as plt\n",
    "import glob\n",
    "import pandas as pd\n",
    "\n",
    "num_sim = 100\n",
    "track_freq = np.zeros((num_sim,11,4))\n",
    "\n",
    "all_track_freq = glob.glob('.csv')\n",
    "\n",
    "\n",
    "list_data_NP = []\n",
    "#\n",
    "for filename in all_track_freq:\n",
    "     data_NP = pd.read_csv(filename,header=None)\n",
    "     list_data_NP.append(data_NP)\n",
    "\n",
    "pd.concat(list_data_NP,ignore_index=True)\n",
    "\n",
    "\n",
    "for i in range(0,num_sim):\n",
    "    for j in range(0,4):\n",
    "        track_freq[i,:,j] = list_data_NP[i].iloc[0:11,j]\n",
    "\n",
    "mean_track_freq = np.mean(track_freq, axis = 0)\n",
    "\n",
    "\n",
    "gen1 = mean_track_freq[:,0]\n",
    "gen2 = mean_track_freq[:,1]\n",
    "gen3 = mean_track_freq[:,2]\n",
    "gen4 = mean_track_freq[:,3]\n",
    "\n",
    "\n",
    "N = 11\n",
    "\n",
    "ind = np.arange(N)    # the x locations for the groups\n",
    "width = 0.8       # the width of the bars: can also be len(x) sequence\n",
    "\n",
    "gen12 = np.add(gen1,gen2)\n",
    "gen123 = np.add(gen12,gen3)\n",
    "p1 = plt.bar(ind, gen1, width, color = 'xkcd:goldenrod')\n",
    "p2 = plt.bar(ind, gen2, width,\n",
    "             bottom=gen1, color = 'xkcd:medium blue')\n",
    "p3 = plt.bar(ind, gen3, width,\n",
    "             bottom=gen12, color = 'xkcd:deep red')\n",
    "p4 = plt.bar(ind, gen4, width,\n",
    "              bottom=gen123, color = 'xkcd:silver')\n",
    "\n",
    "\n",
    "plt.show()"
   ]
  }
 ],
 "metadata": {
  "kernelspec": {
   "display_name": "Python 2",
   "language": "python",
   "name": "python2"
  },
  "language_info": {
   "codemirror_mode": {
    "name": "ipython",
    "version": 2
   },
   "file_extension": ".py",
   "mimetype": "text/x-python",
   "name": "python",
   "nbconvert_exporter": "python",
   "pygments_lexer": "ipython2",
   "version": "2.7.14"
  }
 },
 "nbformat": 4,
 "nbformat_minor": 2
}
